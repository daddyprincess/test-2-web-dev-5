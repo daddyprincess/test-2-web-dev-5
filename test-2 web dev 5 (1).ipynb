{
 "cells": [
  {
   "cell_type": "markdown",
   "id": "e6dd02b9-50c7-4307-9b52-ded94c82fa75",
   "metadata": {},
   "source": [
    "## 3.CSS grid layout"
   ]
  },
  {
   "cell_type": "markdown",
   "id": "04fefacb-406c-4e58-af9d-924fdd46d5b0",
   "metadata": {},
   "source": [
    "### HTML structure"
   ]
  },
  {
   "cell_type": "code",
   "execution_count": null,
   "id": "74decbb0-cfcc-4843-952c-2bce8b3f2136",
   "metadata": {},
   "outputs": [],
   "source": [
    "Start by setting up the HTML structure. Create a <div> container to hold the gallery of images. Inside this container, \n",
    "create individual <div> elements for each image."
   ]
  },
  {
   "cell_type": "code",
   "execution_count": null,
   "id": "daad5d7d-7eff-4aa0-b4d3-5f529bfc5648",
   "metadata": {},
   "outputs": [],
   "source": [
    "<div class=\"gallery\">\n",
    "  <div class=\"image\"><img src=\"image1.jpg\" alt=\"Image 1\"></div>\n",
    "  <div class=\"image\"><img src=\"image2.jpg\" alt=\"Image 2\"></div>\n",
    "  <!-- Add more image divs as needed -->\n",
    "</div>\n"
   ]
  },
  {
   "cell_type": "markdown",
   "id": "b40146e0-042f-4c29-a484-3e3e2030e679",
   "metadata": {},
   "source": [
    "### CSS styling"
   ]
  },
  {
   "cell_type": "code",
   "execution_count": null,
   "id": "58d41c2b-7f0d-47e7-a40f-46b3a3daf3ff",
   "metadata": {},
   "outputs": [],
   "source": [
    ".gallery {\n",
    "  display: grid;\n",
    "  grid-template-columns: repeat(3, 1fr); /* Adjust the number of columns as needed */\n",
    "  grid-gap: 10px; /* Adjust the gap between images */\n",
    "}\n",
    "\n",
    ".image {\n",
    "  width: 100%;\n",
    "  height: 0;\n",
    "  padding-bottom: 100%; /* Maintain aspect ratio */\n",
    "  position: relative;\n",
    "  overflow: hidden;\n",
    "}\n",
    "\n",
    ".image img {\n",
    "  width: 100%;\n",
    "  height: 100%;\n",
    "  object-fit: cover; /* Maintain aspect ratio and fill the container */\n",
    "}"
   ]
  },
  {
   "cell_type": "code",
   "execution_count": null,
   "id": "1418f601-36da-4542-8281-0951c594677c",
   "metadata": {},
   "outputs": [],
   "source": [
    "1.Customize the Grid:\n",
    "Adjust the grid properties according to your desired layout. You can modify the number of columns using grid-template-\n",
    "columns and set the gap between images using grid-gap. Customize the image styling within the .image class to maintain \n",
    "aspect ratio and ensure the images fill the container.\n",
    "\n",
    "2.Replace Image URLs:\n",
    "Replace the src attribute of the <img> tags with the actual image URLs for each image in your gallery.\n",
    "\n",
    "3.Further Customization:\n",
    "Feel free to add additional CSS styles to customize the appearance of the gallery, such as hover effects, captions, or\n",
    "overlays."
   ]
  }
 ],
 "metadata": {
  "kernelspec": {
   "display_name": "Python 3 (ipykernel)",
   "language": "python",
   "name": "python3"
  },
  "language_info": {
   "codemirror_mode": {
    "name": "ipython",
    "version": 3
   },
   "file_extension": ".py",
   "mimetype": "text/x-python",
   "name": "python",
   "nbconvert_exporter": "python",
   "pygments_lexer": "ipython3",
   "version": "3.10.8"
  }
 },
 "nbformat": 4,
 "nbformat_minor": 5
}
